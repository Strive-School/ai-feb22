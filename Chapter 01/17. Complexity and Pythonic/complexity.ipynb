{
 "cells": [
  {
   "cell_type": "markdown",
   "metadata": {
    "cell_id": "00001-0e3e0ecd-ba07-433d-8e82-0875989217ef",
    "deepnote_cell_type": "markdown",
    "tags": []
   },
   "source": [
    "# Complexity"
   ]
  },
  {
   "cell_type": "code",
   "execution_count": 26,
   "metadata": {
    "cell_id": "00002-5adc1d89-c93b-4fbf-ad4e-4e2ed97bd9e7",
    "deepnote_cell_type": "code",
    "deepnote_to_be_reexecuted": false,
    "execution_millis": 49,
    "execution_start": 1626420534641,
    "source_hash": "87954d6e",
    "tags": []
   },
   "outputs": [
    {
     "data": {
      "text/plain": [
       "688"
      ]
     },
     "execution_count": 26,
     "metadata": {},
     "output_type": "execute_result"
    }
   ],
   "source": [
    "data = [997,\n",
    " 1582,\n",
    " 1790,\n",
    " 1798,\n",
    " 1094,\n",
    " 1831,\n",
    " 1879,\n",
    " 1730,\n",
    " 1995,\n",
    " 1702,\n",
    " 1680,\n",
    " 1869,\n",
    " 1964,\n",
    " 1777,\n",
    " 1862,\n",
    " 1928,\n",
    " 1997,\n",
    " 1741,\n",
    " 1604,\n",
    " 1691,\n",
    " 1219,\n",
    " 1458,\n",
    " 1749,\n",
    " 1717,\n",
    " 1786,\n",
    " 1665,\n",
    " 1724,\n",
    " 1998,\n",
    " 1589,\n",
    " 1828,\n",
    " 1953,\n",
    " 1848,\n",
    " 1500,\n",
    " 1590,\n",
    " 1968,\n",
    " 1948,\n",
    " 1323,\n",
    " 1800,\n",
    " 1986,\n",
    " 679,\n",
    " 1907,\n",
    " 1916,\n",
    " 1820,\n",
    " 1661,\n",
    " 1479,\n",
    " 1808,\n",
    " 1824,\n",
    " 1825,\n",
    " 1952,\n",
    " 1666,\n",
    " 1541,\n",
    " 1791,\n",
    " 1906,\n",
    " 1638,\n",
    " 1557,\n",
    " 1999,\n",
    " 1710,\n",
    " 1549,\n",
    " 1912,\n",
    " 1974,\n",
    " 1628,\n",
    " 1748,\n",
    " 1411,\n",
    " 1978,\n",
    " 1865,\n",
    " 1932,\n",
    " 1839,\n",
    " 1892,\n",
    " 1981,\n",
    " 1807,\n",
    " 357,\n",
    " 912,\n",
    " 1443,\n",
    " 1972,\n",
    " 1816,\n",
    " 1890,\n",
    " 1029,\n",
    " 1175,\n",
    " 1522,\n",
    " 1750,\n",
    " 2001,\n",
    " 1655,\n",
    " 1955,\n",
    " 1949,\n",
    " 1660,\n",
    " 233,\n",
    " 1891,\n",
    " 1994,\n",
    " 1934,\n",
    " 1908,\n",
    " 1573,\n",
    " 1712,\n",
    " 1622,\n",
    " 1770,\n",
    " 1574,\n",
    " 1778,\n",
    " 1851,\n",
    " 2004,\n",
    " 1818,\n",
    " 1200,\n",
    " 1229,\n",
    " 1110,\n",
    " 1005,\n",
    " 1716,\n",
    " 1765,\n",
    " 1835,\n",
    " 1773,\n",
    " 15,\n",
    " 1914,\n",
    " 1833,\n",
    " 1689,\n",
    " 1843,\n",
    " 1718,\n",
    " 1872,\n",
    " 390,\n",
    " 1941,\n",
    " 1178,\n",
    " 1670,\n",
    " 1899,\n",
    " 1864,\n",
    " 1913,\n",
    " 2010,\n",
    " 1855,\n",
    " 1797,\n",
    " 1767,\n",
    " 1673,\n",
    " 1657,\n",
    " 1607,\n",
    " 1305,\n",
    " 1341,\n",
    " 1662,\n",
    " 1845,\n",
    " 1980,\n",
    " 1534,\n",
    " 1789,\n",
    " 1876,\n",
    " 1849,\n",
    " 1926,\n",
    " 1958,\n",
    " 977,\n",
    " 1709,\n",
    " 1647,\n",
    " 1832,\n",
    " 1785,\n",
    " 1854,\n",
    " 1667,\n",
    " 1679,\n",
    " 1970,\n",
    " 1186,\n",
    " 2000,\n",
    " 1681,\n",
    " 1684,\n",
    " 1614,\n",
    " 1988,\n",
    " 1561,\n",
    " 1594,\n",
    " 1636,\n",
    " 1327,\n",
    " 1696,\n",
    " 1915,\n",
    " 1045,\n",
    " 1829,\n",
    " 1079,\n",
    " 1295,\n",
    " 1213,\n",
    " 1714,\n",
    " 1992,\n",
    " 1984,\n",
    " 1951,\n",
    " 1687,\n",
    " 1842,\n",
    " 1792,\n",
    " 87,\n",
    " 1732,\n",
    " 428,\n",
    " 1799,\n",
    " 1850,\n",
    " 1962,\n",
    " 1629,\n",
    " 1965,\n",
    " 1142,\n",
    " 1040,\n",
    " 131,\n",
    " 1844,\n",
    " 1454,\n",
    " 1779,\n",
    " 1369,\n",
    " 1960,\n",
    " 1887,\n",
    " 1725,\n",
    " 1893,\n",
    " 1465,\n",
    " 1676,\n",
    " 1826,\n",
    " 1462,\n",
    " 1408,\n",
    " 1937,\n",
    " 1643,\n",
    " 1069,\n",
    " 1643,\n",
    " 1069,1643,\n",
    " 1069,1643,\n",
    " 1069,1643,\n",
    " 1069,1643,\n",
    " 1069,1643,\n",
    " 1069,1643,\n",
    " 1069,1643,\n",
    " 1069,1643,\n",
    " 1069,1643,\n",
    " 1069,1643,\n",
    " 1069,1643,\n",
    " 1069,1643,\n",
    " 1069,1643,\n",
    " 1069,1643,\n",
    " 1069,1643,\n",
    " 1069,1643,\n",
    " 1069,1643,\n",
    " 1069,1643,\n",
    " 1069,1643,\n",
    " 1069,1643,\n",
    " 1069,1643,\n",
    " 1069,1643,\n",
    " 1069,1643,\n",
    " 1069,1643,\n",
    " 1069,1643,\n",
    " 1069,1643,\n",
    " 1069,1643,\n",
    " 1069,1643,\n",
    " 1069,1643,\n",
    " 1069,1643,\n",
    " 1069,1643,\n",
    " 1069,1643,\n",
    " 1069,1643,\n",
    " 1069,1643,\n",
    " 1069,1643,\n",
    " 1069,1643,\n",
    " 1069,1643,\n",
    " 1069,1643,\n",
    " 1069,1643,\n",
    " 1069,1643,\n",
    " 1069,1643,\n",
    " 1069,1643,\n",
    " 1069,1643,\n",
    " 1069,1643,\n",
    " 1069,1643,\n",
    " 1069,1643,\n",
    " 1069,1643,\n",
    " 1069,1643,\n",
    " 1069,1643,\n",
    " 1069,1643,\n",
    " 1069,1643,\n",
    " 1069,1643,\n",
    " 1069,1643,\n",
    " 1069,1643,\n",
    " 1069,1643,\n",
    " 1069,1643,\n",
    " 1069,1643,\n",
    " 1069,1643,\n",
    " 1069,1643,\n",
    " 1069,1643,\n",
    " 1069,1643,\n",
    " 1069,1643,\n",
    " 1069,1643,\n",
    " 1069,1643,\n",
    " 1069,1643,\n",
    " 1069,1643,\n",
    " 1069,1643,\n",
    " 1069,1643,\n",
    " 1069,1643,\n",
    " 1069,1643,\n",
    " 1069,1643,\n",
    " 1069,1643,\n",
    " 1069,1643,\n",
    " 1069,1643,\n",
    " 1069,1643,\n",
    " 1069,1643,\n",
    " 1069,1643,\n",
    " 1069,1643,\n",
    " 1069,1643,\n",
    " 1069,1643,\n",
    " 1069,1643,\n",
    " 1069,1643,\n",
    " 1069,1643,\n",
    " 1069,1643,\n",
    " 1069,1643,\n",
    " 1069,1643,\n",
    " 1069,1643,\n",
    " 1069,1643,\n",
    " 1069,1643,\n",
    " 1069,1643,\n",
    " 1069,1643,\n",
    " 1069,1643,\n",
    " 1069,1643,\n",
    " 1069,1643,\n",
    " 1069,1643,\n",
    " 1069,1643,\n",
    " 1069,1643,\n",
    " 1069,1643,\n",
    " 1069,1643,\n",
    " 1069,1643,\n",
    " 1069,1643,\n",
    " 1069,1643,\n",
    " 1069,1643,\n",
    " 1069,1643,\n",
    " 1069,1643,\n",
    " 1069,1643,\n",
    " 1069,1643,\n",
    " 1069,1643,\n",
    " 1069,1643,\n",
    " 1069,1643,\n",
    " 1069,1643,\n",
    " 1069,1643,\n",
    " 1069,1643,\n",
    " 1069,1643,\n",
    " 1069,1643,\n",
    " 1069,1643,\n",
    " 1069,1643,\n",
    " 1069,1643,\n",
    " 1069,1643,\n",
    " 1069,1643,\n",
    " 1069,1643,\n",
    " 1069,1643,\n",
    " 1069,1643,\n",
    " 1069,1643,\n",
    " 1069,1643,\n",
    " 1069,1643,\n",
    " 1069,1643,\n",
    " 1069,1643,\n",
    " 1069,1643,\n",
    " 1069,1643,\n",
    " 1069,1643,\n",
    " 1069,1643,\n",
    " 1069,1643,\n",
    " 1069,1643,\n",
    " 1069,1643,\n",
    " 1069,1643,\n",
    " 1069,1643,\n",
    " 1069,1643,\n",
    " 1069,1643,\n",
    " 1069,1643,\n",
    " 1069,1643,\n",
    " 1069,1643,\n",
    " 1069,1643,\n",
    " 1069,1643,\n",
    " 1069,1643,\n",
    " 1069,1643,\n",
    " 1069,1643,\n",
    " 1069,1643,\n",
    " 1069,1643,\n",
    " 1069,1643,\n",
    " 1069,1643,\n",
    " 1069,1643,\n",
    " 1069,1643,\n",
    " 1069,1643,\n",
    " 1069,1643,\n",
    " 1069,1643,\n",
    " 1069,1643,\n",
    " 1069,1643,\n",
    " 1069,1643,\n",
    " 1069,1643,\n",
    " 1069,1643,\n",
    " 1069,1643,\n",
    " 1069,1643,\n",
    " 1069,1643,\n",
    " 1069,1643,\n",
    " 1069,1643,\n",
    " 1069,1643,\n",
    " 1069,1643,\n",
    " 1069,1643,\n",
    " 1069,1643,\n",
    " 1069,1643,\n",
    " 1069,1643,\n",
    " 1069,1643,\n",
    " 1069,1643,\n",
    " 1069,1643,\n",
    " 1069,1643,\n",
    " 1069,1643,\n",
    " 1069,1643,\n",
    " 1069,1643,\n",
    " 1069,1643,\n",
    " 1069,1643,\n",
    " 1069,1643,\n",
    " 1069,1643,\n",
    " 1069,1643,\n",
    " 1069,1643,\n",
    " 1069,1643,\n",
    " 1069,1643,\n",
    " 1069,1643,\n",
    " 1069,1643,\n",
    " 1069,1643,\n",
    " 1069,1643,\n",
    " 1069,1643,\n",
    " 1069,1643,\n",
    " 1069,1643,\n",
    " 1069,1643,\n",
    " 1069,1643,\n",
    " 1069,1643,\n",
    " 1069,1643,\n",
    " 1069,1643,\n",
    " 1069,1643,\n",
    " 1069,1643,\n",
    " 1069,1643,\n",
    " 1069,1643,\n",
    " 1069,1643,\n",
    " 1069,1643,\n",
    " 1069,1643,\n",
    " 1069,1643,\n",
    " 1069,1643,\n",
    " 1069,1643,\n",
    " 1069,1643,\n",
    " 1069,1643,\n",
    " 1069,1643,\n",
    " 1069,1643,\n",
    " 1069,1643,\n",
    " 1069,1643,\n",
    " 1069,1643,\n",
    " 1069,1643,\n",
    " 1069,1643,\n",
    " 1069,1643,\n",
    " 1069,1643,\n",
    " 1069,1643,\n",
    " 1069,1643,\n",
    " 1069,1643,\n",
    " 1069,1643,\n",
    " 1069,1643,\n",
    " 1069,1643,\n",
    " 1069,1643,\n",
    " 1069,1643,\n",
    " 1069,1643,\n",
    " 1069,1643,\n",
    " 1069,1643,\n",
    " 1069,1643,\n",
    " 1069,1643,\n",
    " 1069,1643,\n",
    " 1069,1643,\n",
    " 1069,1643,\n",
    " 1069,1643,\n",
    " 1069,1643,\n",
    " 1069,1643,\n",
    " 1069,1643,\n",
    " 1069,1643,\n",
    " 1069,1643,\n",
    " 1069,1643,\n",
    " 1069,\n",
    " 1759]\n",
    "len(data)"
   ]
  },
  {
   "cell_type": "markdown",
   "metadata": {
    "cell_id": "00002-f0b30ead-5757-4abc-9ad2-308d2358c772",
    "deepnote_cell_type": "markdown",
    "tags": []
   },
   "source": [
    "The Day 1 of the advent of code asked to find the only three numbers in the list that sums to 2020."
   ]
  },
  {
   "cell_type": "code",
   "execution_count": 2,
   "metadata": {
    "cell_id": "00002-72f5c1b6-a779-4480-9f7c-a430a829f2ec",
    "deepnote_cell_type": "code",
    "deepnote_to_be_reexecuted": false,
    "execution_millis": 13,
    "execution_start": 1626420537038,
    "source_hash": "72157818",
    "tags": []
   },
   "outputs": [],
   "source": [
    "#for loop version\n",
    "def bad_algorithm(data):\n",
    "    for x in data:                                      # x = 1759 1069\n",
    "        for y in data:                                  # y = 1759 1069 1643 ... 997\n",
    "            for z in data:                              # z = 1759 1069 1643 ... 997\n",
    "                if x + y + z == 2020:\n",
    "                    return (x,y,z)\n"
   ]
  },
  {
   "cell_type": "code",
   "execution_count": 9,
   "metadata": {
    "cell_id": "00004-6ca9e179-d424-4faa-b4cf-4e4f47e757cc",
    "deepnote_cell_type": "code",
    "deepnote_to_be_reexecuted": false,
    "execution_millis": 484,
    "execution_start": 1626420544801,
    "source_hash": "7d916bf9",
    "tags": []
   },
   "outputs": [
    {
     "data": {
      "text/plain": [
       "(912, 977, 131)"
      ]
     },
     "execution_count": 9,
     "metadata": {},
     "output_type": "execute_result"
    }
   ],
   "source": [
    "bad_algorithm(data)"
   ]
  },
  {
   "cell_type": "code",
   "execution_count": 10,
   "metadata": {},
   "outputs": [
    {
     "data": {
      "text/plain": [
       "[(912, 977, 131),\n",
       " (912, 131, 977),\n",
       " (977, 912, 131),\n",
       " (977, 131, 912),\n",
       " (131, 912, 977),\n",
       " (131, 977, 912)]"
      ]
     },
     "execution_count": 10,
     "metadata": {},
     "output_type": "execute_result"
    }
   ],
   "source": [
    "# list comprehension version\n",
    "[(x,y,z) for x in data for y in data for z in data if x+y+z==2020]"
   ]
  },
  {
   "cell_type": "code",
   "execution_count": 11,
   "metadata": {
    "cell_id": "00003-d05134b5-9cf1-4838-89ab-dd088bd66efc",
    "deepnote_cell_type": "code",
    "deepnote_to_be_reexecuted": false,
    "execution_millis": 416,
    "execution_start": 1626420669489,
    "source_hash": "7b440b36",
    "tags": []
   },
   "outputs": [
    {
     "name": "stdout",
     "output_type": "stream",
     "text": [
      "Time elapsed: 1.1565232276916504 s\n"
     ]
    }
   ],
   "source": [
    "from time import time\n",
    "t0 = time()\n",
    "bad_algorithm(data)\n",
    "t1 = time() - t0\n",
    "print(\"Time elapsed:\", t1, \"s\")"
   ]
  },
  {
   "cell_type": "code",
   "execution_count": 27,
   "metadata": {
    "cell_id": "00005-487253d9-56bb-4e0f-9a95-e3d5390e9043",
    "deepnote_cell_type": "code",
    "deepnote_to_be_reexecuted": false,
    "execution_millis": 2815,
    "execution_start": 1626420797574,
    "source_hash": "795bc597",
    "tags": []
   },
   "outputs": [
    {
     "ename": "KeyboardInterrupt",
     "evalue": "",
     "output_type": "error",
     "traceback": [
      "\u001b[0;31m---------------------------------------------------------------------------\u001b[0m",
      "\u001b[0;31mKeyboardInterrupt\u001b[0m                         Traceback (most recent call last)",
      "\u001b[0;32m/tmp/ipykernel_54115/1958476869.py\u001b[0m in \u001b[0;36m<module>\u001b[0;34m\u001b[0m\n\u001b[1;32m      2\u001b[0m \u001b[0mt0\u001b[0m \u001b[0;34m=\u001b[0m \u001b[0mtime\u001b[0m\u001b[0;34m.\u001b[0m\u001b[0mtime\u001b[0m\u001b[0;34m(\u001b[0m\u001b[0;34m)\u001b[0m\u001b[0;34m\u001b[0m\u001b[0;34m\u001b[0m\u001b[0m\n\u001b[1;32m      3\u001b[0m \u001b[0;34m\u001b[0m\u001b[0m\n\u001b[0;32m----> 4\u001b[0;31m \u001b[0mprint\u001b[0m\u001b[0;34m(\u001b[0m\u001b[0;34m[\u001b[0m\u001b[0;34m(\u001b[0m\u001b[0mx\u001b[0m\u001b[0;34m,\u001b[0m\u001b[0my\u001b[0m\u001b[0;34m,\u001b[0m\u001b[0mz\u001b[0m\u001b[0;34m)\u001b[0m \u001b[0;32mfor\u001b[0m \u001b[0mx\u001b[0m \u001b[0;32min\u001b[0m \u001b[0mdata\u001b[0m \u001b[0;32mfor\u001b[0m \u001b[0my\u001b[0m \u001b[0;32min\u001b[0m \u001b[0mdata\u001b[0m \u001b[0;32mfor\u001b[0m \u001b[0mz\u001b[0m \u001b[0;32min\u001b[0m \u001b[0mdata\u001b[0m \u001b[0;32mif\u001b[0m \u001b[0mx\u001b[0m\u001b[0;34m+\u001b[0m\u001b[0my\u001b[0m\u001b[0;34m+\u001b[0m\u001b[0mz\u001b[0m\u001b[0;34m==\u001b[0m\u001b[0;36m2020\u001b[0m\u001b[0;34m]\u001b[0m\u001b[0;34m[\u001b[0m\u001b[0;36m0\u001b[0m\u001b[0;34m]\u001b[0m\u001b[0;34m)\u001b[0m\u001b[0;34m\u001b[0m\u001b[0;34m\u001b[0m\u001b[0m\n\u001b[0m\u001b[1;32m      5\u001b[0m \u001b[0mt1\u001b[0m \u001b[0;34m=\u001b[0m \u001b[0mtime\u001b[0m\u001b[0;34m.\u001b[0m\u001b[0mtime\u001b[0m\u001b[0;34m(\u001b[0m\u001b[0;34m)\u001b[0m \u001b[0;34m-\u001b[0m \u001b[0mt0\u001b[0m\u001b[0;34m\u001b[0m\u001b[0;34m\u001b[0m\u001b[0m\n\u001b[1;32m      6\u001b[0m \u001b[0mprint\u001b[0m\u001b[0;34m(\u001b[0m\u001b[0;34m\"Time elapsed:\"\u001b[0m\u001b[0;34m,\u001b[0m \u001b[0mt1\u001b[0m\u001b[0;34m,\u001b[0m \u001b[0;34m\"s\"\u001b[0m\u001b[0;34m)\u001b[0m\u001b[0;34m\u001b[0m\u001b[0;34m\u001b[0m\u001b[0m\n",
      "\u001b[0;32m/tmp/ipykernel_54115/1958476869.py\u001b[0m in \u001b[0;36m<listcomp>\u001b[0;34m(.0)\u001b[0m\n\u001b[1;32m      2\u001b[0m \u001b[0mt0\u001b[0m \u001b[0;34m=\u001b[0m \u001b[0mtime\u001b[0m\u001b[0;34m.\u001b[0m\u001b[0mtime\u001b[0m\u001b[0;34m(\u001b[0m\u001b[0;34m)\u001b[0m\u001b[0;34m\u001b[0m\u001b[0;34m\u001b[0m\u001b[0m\n\u001b[1;32m      3\u001b[0m \u001b[0;34m\u001b[0m\u001b[0m\n\u001b[0;32m----> 4\u001b[0;31m \u001b[0mprint\u001b[0m\u001b[0;34m(\u001b[0m\u001b[0;34m[\u001b[0m\u001b[0;34m(\u001b[0m\u001b[0mx\u001b[0m\u001b[0;34m,\u001b[0m\u001b[0my\u001b[0m\u001b[0;34m,\u001b[0m\u001b[0mz\u001b[0m\u001b[0;34m)\u001b[0m \u001b[0;32mfor\u001b[0m \u001b[0mx\u001b[0m \u001b[0;32min\u001b[0m \u001b[0mdata\u001b[0m \u001b[0;32mfor\u001b[0m \u001b[0my\u001b[0m \u001b[0;32min\u001b[0m \u001b[0mdata\u001b[0m \u001b[0;32mfor\u001b[0m \u001b[0mz\u001b[0m \u001b[0;32min\u001b[0m \u001b[0mdata\u001b[0m \u001b[0;32mif\u001b[0m \u001b[0mx\u001b[0m\u001b[0;34m+\u001b[0m\u001b[0my\u001b[0m\u001b[0;34m+\u001b[0m\u001b[0mz\u001b[0m\u001b[0;34m==\u001b[0m\u001b[0;36m2020\u001b[0m\u001b[0;34m]\u001b[0m\u001b[0;34m[\u001b[0m\u001b[0;36m0\u001b[0m\u001b[0;34m]\u001b[0m\u001b[0;34m)\u001b[0m\u001b[0;34m\u001b[0m\u001b[0;34m\u001b[0m\u001b[0m\n\u001b[0m\u001b[1;32m      5\u001b[0m \u001b[0mt1\u001b[0m \u001b[0;34m=\u001b[0m \u001b[0mtime\u001b[0m\u001b[0;34m.\u001b[0m\u001b[0mtime\u001b[0m\u001b[0;34m(\u001b[0m\u001b[0;34m)\u001b[0m \u001b[0;34m-\u001b[0m \u001b[0mt0\u001b[0m\u001b[0;34m\u001b[0m\u001b[0;34m\u001b[0m\u001b[0m\n\u001b[1;32m      6\u001b[0m \u001b[0mprint\u001b[0m\u001b[0;34m(\u001b[0m\u001b[0;34m\"Time elapsed:\"\u001b[0m\u001b[0;34m,\u001b[0m \u001b[0mt1\u001b[0m\u001b[0;34m,\u001b[0m \u001b[0;34m\"s\"\u001b[0m\u001b[0;34m)\u001b[0m\u001b[0;34m\u001b[0m\u001b[0;34m\u001b[0m\u001b[0m\n",
      "\u001b[0;31mKeyboardInterrupt\u001b[0m: "
     ]
    }
   ],
   "source": [
    "import time\n",
    "t0 = time.time()\n",
    "\n",
    "print([(x,y,z) for x in data for y in data for z in data if x+y+z==2020][0])\n",
    "t1 = time.time() - t0\n",
    "print(\"Time elapsed:\", t1, \"s\")"
   ]
  },
  {
   "cell_type": "code",
   "execution_count": null,
   "metadata": {},
   "outputs": [],
   "source": [
    "# x + y + z = 2020\n",
    "\n",
    "# x + y = 2020 - z"
   ]
  },
  {
   "cell_type": "markdown",
   "metadata": {},
   "source": [
    "### A way to improve: MEMOization\n",
    "The previous algorithm can be improved with a technique called memoization. Instead of repeating the same operation again and again, we can store the results and reuse them. \n",
    "\n",
    "While looping through the data, we are going to look for the right part of the following equation:\n",
    "\n",
    "$$ x + y = N - z $$\n",
    "\n",
    "and store the left part in the following way:\n",
    "\n",
    "$$ (N - z) - y = x $$\n",
    "\n"
   ]
  },
  {
   "cell_type": "code",
   "execution_count": 24,
   "metadata": {
    "cell_id": "00008-d8a8d515-6278-4c55-94ca-ede1ce023029",
    "deepnote_cell_type": "code",
    "deepnote_to_be_reexecuted": false,
    "execution_millis": 1,
    "execution_start": 1626423313330,
    "source_hash": "20a28a11",
    "tags": []
   },
   "outputs": [],
   "source": [
    "def memoization(list_, num_to_sum):                                 # l, 6 - 2 = 4\n",
    "    memo = {}\n",
    "    for x in list_:                                                 # x = 7 {-3: 7, 2: 2, 1: 3, }\n",
    "        if x not in memo: \n",
    "            memo[num_to_sum - x] = x\n",
    "        else:\n",
    "            # print(memo)\n",
    "            return x, memo[x]\n",
    "\n",
    "def algorithm_with_memo(list_, sum_to_find):\n",
    "    for x in list_:                                                 # x = 2\n",
    "        partial_sum = memoization(list_, sum_to_find - x) \n",
    "        # print(partial_sum)          # stf = 6\n",
    "        if partial_sum:\n",
    "            return (x, *partial_sum)\n",
    "\n",
    "        \n",
    "    "
   ]
  },
  {
   "cell_type": "markdown",
   "metadata": {},
   "source": [
    "let's do an example:"
   ]
  },
  {
   "cell_type": "code",
   "execution_count": 21,
   "metadata": {},
   "outputs": [],
   "source": [
    "l = [7, 2, 3, 1]"
   ]
  },
  {
   "cell_type": "code",
   "execution_count": 22,
   "metadata": {},
   "outputs": [
    {
     "name": "stdout",
     "output_type": "stream",
     "text": [
      "None\n",
      "{-3: 7, 2: 2, 1: 3}\n",
      "(1, 3)\n",
      "(2, 1, 3)\n"
     ]
    }
   ],
   "source": [
    "print(algorithm_with_memo(l, 6))"
   ]
  },
  {
   "cell_type": "code",
   "execution_count": 33,
   "metadata": {
    "cell_id": "00008-be554579-fde9-4117-91ff-744ae47d860b",
    "deepnote_cell_type": "code",
    "deepnote_to_be_reexecuted": false,
    "execution_millis": 43,
    "execution_start": 1626423327249,
    "source_hash": "d652b7ef",
    "tags": []
   },
   "outputs": [
    {
     "name": "stdout",
     "output_type": "stream",
     "text": [
      "(912, 131, 977)\n",
      "Time elapsed:  0.008486032485961914\n"
     ]
    }
   ],
   "source": [
    "import time\n",
    "t0 = time.time()\n",
    "print(algorithm_with_memo(data, 2020))\n",
    "t1 = time.time() - t0\n",
    "print(\"Time elapsed: \", t1)"
   ]
  },
  {
   "cell_type": "markdown",
   "metadata": {
    "cell_id": "00011-56d853e5-a01a-474b-9d9c-6a5f7fa460b8",
    "deepnote_cell_type": "markdown",
    "tags": []
   },
   "source": [
    "Searching in a dictionary in Python is O(1)!\n",
    "\n",
    "This is why the `algorithm_with_memo()` function was faster in the previous example."
   ]
  },
  {
   "cell_type": "markdown",
   "metadata": {},
   "source": [
    "### Sorting algorithm (mob programming)"
   ]
  },
  {
   "cell_type": "code",
   "execution_count": 39,
   "metadata": {},
   "outputs": [
    {
     "data": {
      "text/plain": [
       "'\\ni = 0   arr[0] = 5        arr[0] = 2                                                                                      arr[0] = 0\\nj = 0   arr[0] = 5  j = 1 arr[1] = 2 j = 2 arr[2] = 7 j = 3 arr[3] = 9 j=4 arr[4] = 6 j = 5 arr[5] = 4 j=6 arr[6] = 3 j=7 arr[7] = 0 j = 8 arr[8] = 1\\n\\narr = [0, 5, 7 ,9 , 6 , 4 , 3, 2, 1]\\n\\ni = 1   arr[1] = 5\\nj = 0   arr[0] = 0 j= 1 arr[1] = 5 j = 2 arr[j] = 7\\n\\n\\n'"
      ]
     },
     "execution_count": 39,
     "metadata": {},
     "output_type": "execute_result"
    }
   ],
   "source": [
    "# Your code here\n",
    "\n",
    "l = [5, 2, 7, 9, 6, 4, 3, 0, 1]\n",
    "\n",
    "\n",
    "def first_sort(arr):\n",
    "    for i in range(len(arr)):\n",
    "        for j in range(len(arr)):\n",
    "            if arr[i] < arr[j]:\n",
    "                arr[i], arr[j] = arr[j], arr[i]\n",
    "    return arr\n",
    "\n",
    "# first iter\n",
    "'''\n",
    "i = 0   arr[0] = 5        arr[0] = 2                                                                                      arr[0] = 0\n",
    "j = 0   arr[0] = 5  j = 1 arr[1] = 2 j = 2 arr[2] = 7 j = 3 arr[3] = 9 j=4 arr[4] = 6 j = 5 arr[5] = 4 j=6 arr[6] = 3 j=7 arr[7] = 0 j = 8 arr[8] = 1\n",
    "\n",
    "arr = [0, 5, 7 ,9 , 6 , 4 , 3, 2, 1]\n",
    "\n",
    "i = 1   arr[1] = 5\n",
    "j = 0   arr[0] = 0 j= 1 arr[1] = 5 j = 2 arr[j] = 7\n",
    "\n",
    "\n",
    "'''"
   ]
  },
  {
   "cell_type": "code",
   "execution_count": 30,
   "metadata": {},
   "outputs": [
    {
     "name": "stdout",
     "output_type": "stream",
     "text": [
      "[0, 1, 2, 3, 4, 5, 6, 7, 9]\n"
     ]
    }
   ],
   "source": [
    "print(first_sort(l))"
   ]
  },
  {
   "cell_type": "code",
   "execution_count": 42,
   "metadata": {},
   "outputs": [
    {
     "name": "stdout",
     "output_type": "stream",
     "text": [
      "None\n",
      "1.8454041481018066\n"
     ]
    }
   ],
   "source": [
    "import numpy as np\n",
    "np.random.seed(73)\n",
    "list2 = np.random.permutation(100000)\n",
    "\n",
    "from merge_sort import merge_sort\n",
    "\n",
    "t0 = time.time()\n",
    "print(merge_sort(list2, 0, len(list2) - 1))\n",
    "print(time.time() - t0)\n"
   ]
  }
 ],
 "metadata": {
  "deepnote": {},
  "deepnote_execution_queue": [],
  "deepnote_notebook_id": "d55bfb60-9668-4e5d-be81-e4113360cf5a",
  "interpreter": {
   "hash": "29b18d3f73f642531ee347ff4bf5c89cb1b4690d3124f2476bafc9c6154c3b47"
  },
  "kernelspec": {
   "display_name": "Python 3.8.8 ('strive')",
   "language": "python",
   "name": "python3"
  },
  "language_info": {
   "codemirror_mode": {
    "name": "ipython",
    "version": 3
   },
   "file_extension": ".py",
   "mimetype": "text/x-python",
   "name": "python",
   "nbconvert_exporter": "python",
   "pygments_lexer": "ipython3",
   "version": "3.8.8"
  },
  "orig_nbformat": 2
 },
 "nbformat": 4,
 "nbformat_minor": 2
}
