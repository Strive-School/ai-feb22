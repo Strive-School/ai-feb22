{
 "cells": [
  {
   "cell_type": "markdown",
   "metadata": {},
   "source": [
    "# Pythonic"
   ]
  },
  {
   "cell_type": "code",
   "execution_count": 3,
   "metadata": {},
   "outputs": [
    {
     "name": "stdout",
     "output_type": "stream",
     "text": [
      "6\n"
     ]
    }
   ],
   "source": [
    "# Variable assignment with if\n",
    "\n",
    "a = 0.5\n",
    "\n",
    "# if a > 0.5:\n",
    "#     b = 10\n",
    "# else:\n",
    "#     b = 6\n",
    "\n",
    "b = 10 if a > 0.5 else 6\n",
    "print(b)"
   ]
  },
  {
   "cell_type": "code",
   "execution_count": 5,
   "metadata": {},
   "outputs": [
    {
     "name": "stdout",
     "output_type": "stream",
     "text": [
      "ok\n"
     ]
    }
   ],
   "source": [
    "# if within a range\n",
    "\n",
    "a = 5\n",
    "\n",
    "# if a > 3 and a < 7:\n",
    "#     print('ok')\n",
    "\n",
    "if 3 < a < 7:\n",
    "    print('ok')"
   ]
  },
  {
   "cell_type": "code",
   "execution_count": 6,
   "metadata": {},
   "outputs": [
    {
     "name": "stdout",
     "output_type": "stream",
     "text": [
      "True\n"
     ]
    }
   ],
   "source": [
    "# check for a value in a list/tuple/dict\n",
    "\n",
    "l = [1, 4, 7, 5]\n",
    "\n",
    "is_in = 5 in l\n",
    "\n",
    "print(is_in)"
   ]
  },
  {
   "cell_type": "code",
   "execution_count": 10,
   "metadata": {},
   "outputs": [
    {
     "name": "stdout",
     "output_type": "stream",
     "text": [
      "0 a\n",
      "1 f\n",
      "2 t\n",
      "3 e\n"
     ]
    }
   ],
   "source": [
    "# enumerate\n",
    "\n",
    "lis = ['a', 'f', 't', 'e']\n",
    "\n",
    "for i, el in enumerate(lis):\n",
    "    print(i, el)"
   ]
  },
  {
   "cell_type": "code",
   "execution_count": 11,
   "metadata": {},
   "outputs": [
    {
     "name": "stdout",
     "output_type": "stream",
     "text": [
      "10 10 10 10\n"
     ]
    }
   ],
   "source": [
    "# multiple variable assignment\n",
    "\n",
    "a = b = c = d = 10\n",
    "\n",
    "print(a, b,c, d)"
   ]
  },
  {
   "cell_type": "code",
   "execution_count": 13,
   "metadata": {},
   "outputs": [
    {
     "name": "stdout",
     "output_type": "stream",
     "text": [
      "a: 7 | b: 3\n",
      "[1, 8, 5, 7]\n"
     ]
    }
   ],
   "source": [
    "# Python magic trick swap\n",
    "\n",
    "a = 3\n",
    "b = 7\n",
    "\n",
    "a, b = b, a\n",
    "\n",
    "print(f'a: {a} | b: {b}')\n",
    "\n",
    "lis = [1, 5, 8, 7]\n",
    "\n",
    "lis[1], lis[2] = lis[2], lis[1]\n",
    "\n",
    "print(lis)"
   ]
  },
  {
   "cell_type": "code",
   "execution_count": 15,
   "metadata": {},
   "outputs": [
    {
     "name": "stdout",
     "output_type": "stream",
     "text": [
      "[3, 24, 15, 21]\n"
     ]
    }
   ],
   "source": [
    "# list comprehension\n",
    "# list2 = []\n",
    "\n",
    "# for el in lis:\n",
    "#     list2.append(el*3)\n",
    "\n",
    "list2 = [el*3 for el in lis]\n",
    "\n",
    "print(list2)"
   ]
  },
  {
   "cell_type": "code",
   "execution_count": 19,
   "metadata": {},
   "outputs": [
    {
     "name": "stdout",
     "output_type": "stream",
     "text": [
      "[21, 15, 24, 3]\n",
      "[3, 24, 15, 21]\n"
     ]
    }
   ],
   "source": [
    "# negative indices\n",
    "print(list2[::-1])\n",
    "\n",
    "print(list2)"
   ]
  },
  {
   "cell_type": "code",
   "execution_count": 25,
   "metadata": {},
   "outputs": [
    {
     "name": "stdout",
     "output_type": "stream",
     "text": [
      "0\n",
      "1\n",
      "2\n",
      "3\n",
      "4\n",
      "5\n",
      "6\n",
      "7\n",
      "not all less than 10\n"
     ]
    }
   ],
   "source": [
    "# for ... else\n",
    "\n",
    "for i in range(10):\n",
    "    print(i)\n",
    "    if i > 6:\n",
    "        print('not all less than 10')\n",
    "        break\n",
    "else:\n",
    "    print('all less than 10')        \n"
   ]
  },
  {
   "cell_type": "code",
   "execution_count": 38,
   "metadata": {},
   "outputs": [
    {
     "name": "stdout",
     "output_type": "stream",
     "text": [
      "120\n"
     ]
    }
   ],
   "source": [
    "# recursion\n",
    "\n",
    "# factoria of 5 (5!) = 5 * 4 * 3 * 2 * 1\n",
    "\n",
    "\n",
    "\n",
    "# def fact(n):\n",
    "#     f = 1\n",
    "#     for i in range(1, n +1):\n",
    "#         f *= i\n",
    "#     return f\n",
    "\n",
    "# print(fact(5))\n",
    "\n",
    "# 5! = 5 * 4!\n",
    "# 4! = 4 * 3!\n",
    "\n",
    "# 0! = 1\n",
    "\n",
    "def fact_recursive(n):\n",
    "    if n == 0:\n",
    "        return 1\n",
    "    else:\n",
    "        return n * fact_recursive(n - 1)\n",
    "\n",
    "\n",
    "'''\n",
    "n = 5   5 == 0?     120\n",
    "5 * fact_recursive(4)   5 * 24 ( 4* 6)\n",
    "    n = 4   4 ==0 ?\n",
    "    4 * fact_recursive(3)   4 * 6 (3 * 2)\n",
    "        n = 3   3 == 0?\n",
    "        3 * fact_recursive(2)   3 * 2\n",
    "            n = 2   2 == 0 ?\n",
    "            2 * fact_recursive(1)   2 * 1   \n",
    "                n = 1 1 == 0?\n",
    "                1 * fact_recursive(0)   1 * 1 = 1\n",
    "                    n = 0   0 == 0?\n",
    "                    return 1\n",
    "'''\n",
    "\n",
    "print(fact_recursive(5))"
   ]
  },
  {
   "cell_type": "code",
   "execution_count": 35,
   "metadata": {},
   "outputs": [
    {
     "name": "stdout",
     "output_type": "stream",
     "text": [
      "8\n"
     ]
    }
   ],
   "source": [
    "# 2^4 -> 2 * 2^3 -> 2 * 2 * 2^2 -> 2 * 2 * 2 * 2^1 -> 2 * 2 * 2 * 2 * 2^0\n",
    "# n^0 = 1\n",
    "\n",
    "\n",
    "\n",
    "def exp_rec(b, e):\n",
    "    if e == 0:\n",
    "        return 1\n",
    "    else:\n",
    "        return b * exp_rec(b, e -1)\n",
    "\n",
    "print(exp_rec(2, 3))\n",
    "\n"
   ]
  }
 ],
 "metadata": {
  "interpreter": {
   "hash": "29b18d3f73f642531ee347ff4bf5c89cb1b4690d3124f2476bafc9c6154c3b47"
  },
  "kernelspec": {
   "display_name": "Python 3.8.8 ('strive')",
   "language": "python",
   "name": "python3"
  },
  "language_info": {
   "codemirror_mode": {
    "name": "ipython",
    "version": 3
   },
   "file_extension": ".py",
   "mimetype": "text/x-python",
   "name": "python",
   "nbconvert_exporter": "python",
   "pygments_lexer": "ipython3",
   "version": "3.8.8"
  },
  "orig_nbformat": 4
 },
 "nbformat": 4,
 "nbformat_minor": 2
}
