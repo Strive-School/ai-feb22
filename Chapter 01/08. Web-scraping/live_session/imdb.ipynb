{
 "cells": [
  {
   "cell_type": "code",
   "execution_count": 37,
   "metadata": {},
   "outputs": [],
   "source": [
    "import requests\n",
    "from bs4 import BeautifulSoup"
   ]
  },
  {
   "cell_type": "code",
   "execution_count": 38,
   "metadata": {},
   "outputs": [],
   "source": [
    "# getting target website\n",
    "url = \"https://www.imdb.com/search/title/?genres=sci_fi&sort=user_rating,desc&title_type=feature&num_votes=25000,&pf_rd_m=A2FGELUUNOQJNL&pf_rd_p=5aab685f-35eb-40f3-95f7-c53f09d542c3&pf_rd_r=E40TDJEMENX3WJ81KT4Q&pf_rd_s=right-6&pf_rd_t=15506&pf_rd_i=top&ref_=chttp_gnr_17\"\n"
   ]
  },
  {
   "cell_type": "code",
   "execution_count": 39,
   "metadata": {},
   "outputs": [],
   "source": [
    "\n",
    "#pinging the webpage\n",
    "getting_page = requests.get(url)"
   ]
  },
  {
   "cell_type": "code",
   "execution_count": 40,
   "metadata": {},
   "outputs": [
    {
     "name": "stdout",
     "output_type": "stream",
     "text": [
      "<Response [200]>\n"
     ]
    }
   ],
   "source": [
    "print(getting_page)"
   ]
  },
  {
   "cell_type": "code",
   "execution_count": 41,
   "metadata": {},
   "outputs": [],
   "source": [
    "# getting the actual content from the webpage\n",
    "soup = BeautifulSoup(getting_page.content, \"html.parser\" )"
   ]
  },
  {
   "cell_type": "code",
   "execution_count": null,
   "metadata": {},
   "outputs": [],
   "source": [
    "#soup"
   ]
  },
  {
   "cell_type": "code",
   "execution_count": null,
   "metadata": {},
   "outputs": [],
   "source": [
    "heading = soup.find_all(\"h1\", class_= \"header\")"
   ]
  },
  {
   "cell_type": "code",
   "execution_count": null,
   "metadata": {},
   "outputs": [],
   "source": [
    "type(heading)"
   ]
  },
  {
   "cell_type": "code",
   "execution_count": null,
   "metadata": {},
   "outputs": [],
   "source": [
    "heading"
   ]
  },
  {
   "cell_type": "code",
   "execution_count": null,
   "metadata": {},
   "outputs": [],
   "source": [
    "h2 = soup.find(\"h1\", class_= \"header\").text"
   ]
  },
  {
   "cell_type": "code",
   "execution_count": null,
   "metadata": {},
   "outputs": [],
   "source": [
    "h2"
   ]
  },
  {
   "cell_type": "code",
   "execution_count": null,
   "metadata": {},
   "outputs": [],
   "source": [
    "type(h2)"
   ]
  },
  {
   "cell_type": "code",
   "execution_count": 80,
   "metadata": {},
   "outputs": [],
   "source": [
    "movie_info = soup.find_all(\"h3\" ,class_ =\"lister-item-header\")[0]"
   ]
  },
  {
   "cell_type": "code",
   "execution_count": 81,
   "metadata": {},
   "outputs": [
    {
     "data": {
      "text/plain": [
       "<h3 class=\"lister-item-header\">\n",
       "<span class=\"lister-item-index unbold text-primary\">1.</span>\n",
       "<a href=\"/title/tt1375666/\">Inception</a>\n",
       "<span class=\"lister-item-year text-muted unbold\">(2010)</span>\n",
       "</h3>"
      ]
     },
     "execution_count": 81,
     "metadata": {},
     "output_type": "execute_result"
    }
   ],
   "source": [
    "movie_info"
   ]
  },
  {
   "cell_type": "code",
   "execution_count": 74,
   "metadata": {},
   "outputs": [],
   "source": [
    "movie_titles = []\n",
    "for i in movie_info:\n",
    "    movie_titles.append(i.text.replace(\"\\n\", \"\").split(\".\")[1].split(\"(\")[0])\n"
   ]
  },
  {
   "cell_type": "code",
   "execution_count": 75,
   "metadata": {},
   "outputs": [
    {
     "data": {
      "text/plain": [
       "['Inception',\n",
       " 'Spider-Man: No Way Home',\n",
       " 'Interstellar',\n",
       " 'Matrix',\n",
       " 'Das Imperium schlägt zurück',\n",
       " 'Terminator 2: Tag der Abrechnung',\n",
       " 'Zurück in die Zukunft',\n",
       " 'Krieg der Sterne',\n",
       " 'Avengers: Infinity War',\n",
       " 'Alien - Das unheimliche Wesen aus einer fremden Welt',\n",
       " 'Spider-Man: A New Universe',\n",
       " 'Avengers: Endgame',\n",
       " 'WALL·E - Der Letzte räumt die Erde auf',\n",
       " 'Aliens - Die Rückkehr',\n",
       " 'Vergiss mein nicht',\n",
       " 'Die Rückkehr der Jedi-Ritter',\n",
       " 'Uhrwerk Orange',\n",
       " '2001: Odyssee im Weltraum',\n",
       " 'Metropolis',\n",
       " 'Murali - Wie der Blitz',\n",
       " 'PK - Andere Sterne, Andere Sitten',\n",
       " 'V wie Vendetta',\n",
       " 'Jurassic Park',\n",
       " 'Das Ding aus einer anderen Welt',\n",
       " 'Logan: The Wolverine',\n",
       " 'Guardians of the Galaxy',\n",
       " 'Mad Max: Fury Road',\n",
       " 'Zack Snyder: Justice League',\n",
       " 'Dune',\n",
       " 'The Avengers',\n",
       " 'G',\n",
       " 'Neon Genesis Evangelion - The End of Evangelion',\n",
       " 'Der Gigant aus dem All',\n",
       " 'Terminator',\n",
       " 'Der Blade Runner',\n",
       " 'Stalker',\n",
       " 'Der Marsianer: Rettet Mark Watney',\n",
       " 'X-Men: Zukunft ist Vergangenheit',\n",
       " 'Blade Runner 2049',\n",
       " 'Her',\n",
       " 'Deadpool',\n",
       " 'Star Trek',\n",
       " 'Donnie Darko',\n",
       " '12 Monkeys',\n",
       " 'Akira',\n",
       " 'Nausicaä - Prinzessin aus dem Tal der Winde',\n",
       " 'Solaris',\n",
       " 'Planet der Affen',\n",
       " 'Thor: Tag der Entscheidung',\n",
       " 'Arrival']"
      ]
     },
     "execution_count": 75,
     "metadata": {},
     "output_type": "execute_result"
    }
   ],
   "source": [
    "movie_titles"
   ]
  },
  {
   "cell_type": "code",
   "execution_count": null,
   "metadata": {},
   "outputs": [],
   "source": []
  }
 ],
 "metadata": {
  "interpreter": {
   "hash": "eb1ba706fc28fd0479d87a5a48376da51730284c6e31c7d222c5792acd56da61"
  },
  "kernelspec": {
   "display_name": "Python 3.8.12 ('scrapster')",
   "language": "python",
   "name": "python3"
  },
  "language_info": {
   "codemirror_mode": {
    "name": "ipython",
    "version": 3
   },
   "file_extension": ".py",
   "mimetype": "text/x-python",
   "name": "python",
   "nbconvert_exporter": "python",
   "pygments_lexer": "ipython3",
   "version": "3.8.12"
  },
  "orig_nbformat": 4
 },
 "nbformat": 4,
 "nbformat_minor": 2
}
